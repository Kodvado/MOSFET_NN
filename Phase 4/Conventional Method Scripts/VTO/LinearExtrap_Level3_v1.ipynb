{
 "cells": [
  {
   "cell_type": "code",
   "execution_count": 27,
   "id": "86c21a01",
   "metadata": {},
   "outputs": [],
   "source": [
    "import pandas as pd\n",
    "import numpy as np\n",
    "import matplotlib.pyplot as plt\n",
    "from tqdm import tqdm  # Standard tqdm for progress bar\n",
    "\n",
    "# Configuration\n",
    "MEASUREMENTS_FILE = 'measurements_level3_v11.csv'\n",
    "PARAMS_FILE = 'mosfet_params_level3_v11.csv'\n",
    "\n"
   ]
  },
  {
   "cell_type": "code",
   "execution_count": 28,
   "id": "4174098a",
   "metadata": {},
   "outputs": [
    {
     "name": "stdout",
     "output_type": "stream",
     "text": [
      "Loaded measurements_level3_v11.csv\n",
      "Loaded mosfet_params_level3_v11.csv\n"
     ]
    }
   ],
   "source": [
    "def load_data(measurements_file, params_file):\n",
    "    \"\"\"Load the measurement and parameter CSV files into DataFrames.\"\"\"\n",
    "    try:\n",
    "        df_meas = pd.read_csv(measurements_file)\n",
    "        print(f\"Loaded {measurements_file}\")\n",
    "    except FileNotFoundError:\n",
    "        print(f\"Error: {measurements_file} not found.\")\n",
    "        df_meas = pd.DataFrame()\n",
    "\n",
    "    try:\n",
    "        df_params = pd.read_csv(params_file)\n",
    "        print(f\"Loaded {params_file}\")\n",
    "    except FileNotFoundError:\n",
    "        print(f\"Error: {params_file} not found.\")\n",
    "        df_params = pd.DataFrame()\n",
    "\n",
    "    return df_meas, df_params\n",
    "\n",
    "# Load data once\n",
    "df_meas, df_params = load_data(MEASUREMENTS_FILE, PARAMS_FILE)"
   ]
  },
  {
   "cell_type": "code",
   "execution_count": 29,
   "id": "22ae78d4",
   "metadata": {},
   "outputs": [],
   "source": [
    "VDS_SATURATION = 5.0  # Vds value for saturation region data\n",
    "VGS_LINEAR_THRESHOLD_LOW = 0.5    # Adjust if needed\n",
    "VGS_LINEAR_THRESHOLD_HIGH = 2   # Adjust if needed"
   ]
  },
  {
   "cell_type": "code",
   "execution_count": null,
   "id": "f9b56d7f",
   "metadata": {},
   "outputs": [
    {
     "name": "stdout",
     "output_type": "stream",
     "text": [
      "\n",
      "Processing first 11000 of 55000 MOSFETs...\n"
     ]
    },
    {
     "name": "stderr",
     "output_type": "stream",
     "text": [
      "Calculating Vth: 100%|██████████| 11000/11000 [06:04<00:00, 30.20it/s]"
     ]
    },
    {
     "name": "stdout",
     "output_type": "stream",
     "text": [
      "\n",
      "Time taken to calculate Vth for 11000 MOSFETs: 364.30 seconds\n"
     ]
    },
    {
     "name": "stderr",
     "output_type": "stream",
     "text": [
      "\n"
     ]
    }
   ],
   "source": [
    "import time  # Add this to measure execution time\n",
    "\n",
    "def process_mosfets(df_meas, df_params, num_devices, vds_saturation, vgs_low, vgs_high):\n",
    "    \"\"\"Process MOSFET data and calculate Vth for a specified number of devices, with timing.\"\"\"\n",
    "    results = []\n",
    "\n",
    "    if not df_meas.empty and not df_params.empty:\n",
    "        unique_mosfet_ids = sorted(df_meas['MOSFET_ID'].unique())\n",
    "        # Limit the number of devices if specified\n",
    "        if num_devices is not None:\n",
    "            unique_mosfet_ids = unique_mosfet_ids[:num_devices]\n",
    "            print(f\"\\nProcessing first {num_devices} of {len(df_meas['MOSFET_ID'].unique())} MOSFETs...\")\n",
    "        else:\n",
    "            print(f\"\\nProcessing all {len(unique_mosfet_ids)} MOSFETs...\")\n",
    "\n",
    "        # Start timing\n",
    "        start_time = time.time()\n",
    "\n",
    "        for mosfet_id in tqdm(unique_mosfet_ids, desc=\"Calculating Vth\"):\n",
    "            # 1. Filter measurements for current MOSFET\n",
    "            df_single_mosfet = df_meas[df_meas['MOSFET_ID'] == mosfet_id]\n",
    "\n",
    "            # 2. Filter for saturation region data\n",
    "            df_sat = df_single_mosfet[np.isclose(df_single_mosfet['VDS'], vds_saturation)].copy()\n",
    "\n",
    "            if df_sat.empty:\n",
    "                print(f\"Warning: No saturation data (Vds={vds_saturation}V) found for MOSFET_ID {mosfet_id}. Skipping.\")\n",
    "                continue\n",
    "\n",
    "            # 3. Calculate SQRT_ID\n",
    "            df_sat['SQRT_ID'] = np.sqrt(df_sat['ID'].clip(lower=1e-15))\n",
    "\n",
    "            # 4. Select linear region for extrapolation\n",
    "            df_linear_region = df_sat[\n",
    "                (df_sat['VGS'] > vgs_low) &\n",
    "                (df_sat['VGS'] <= vgs_high) &\n",
    "                (df_sat['ID'] > 0)\n",
    "            ]\n",
    "\n",
    "            vth_extrapolated = np.nan\n",
    "\n",
    "            # 5. Perform linear fit if enough points exist\n",
    "            if len(df_linear_region) >= 2:\n",
    "                vgs_linear = df_linear_region['VGS']\n",
    "                sqrt_id_linear = df_linear_region['SQRT_ID']\n",
    "\n",
    "                try:\n",
    "                    slope, intercept = np.polyfit(vgs_linear, sqrt_id_linear, 1)\n",
    "                    if slope != 0:\n",
    "                        vth_extrapolated = -intercept / slope\n",
    "                    else:\n",
    "                        print(f\"Warning: Zero slope detected for MOSFET_ID {mosfet_id}. Cannot extrapolate Vth.\")\n",
    "                except np.linalg.LinAlgError:\n",
    "                    print(f\"Warning: Linear fit failed for MOSFET_ID {mosfet_id}.\")\n",
    "            # else: Vth remains NaN, no warning needed\n",
    "\n",
    "            # 6. Get actual Vth (VTO) from params file\n",
    "            actual_params = df_params[df_params['MOSFET_ID'] == mosfet_id]\n",
    "            if not actual_params.empty:\n",
    "                actual_vth = actual_params['VTO'].iloc[0]\n",
    "            else:\n",
    "                print(f\"Warning: Parameters not found for MOSFET_ID {mosfet_id}. Cannot calculate error.\")\n",
    "                actual_vth = np.nan\n",
    "\n",
    "            # 7. Calculate Percentage Error\n",
    "            percent_error = np.nan\n",
    "            if not np.isnan(vth_extrapolated) and not np.isnan(actual_vth):\n",
    "                if actual_vth != 0:\n",
    "                    percent_error = abs((vth_extrapolated - actual_vth) / actual_vth) * 100\n",
    "                elif vth_extrapolated == 0:\n",
    "                    percent_error = 0.0\n",
    "                else:\n",
    "                    percent_error = float('inf')\n",
    "\n",
    "            # 8. Store results\n",
    "            results.append({\n",
    "                'MOSFET_ID': mosfet_id,\n",
    "                'Actual_Vth (VTO)': actual_vth,\n",
    "                'Extrapolated_Vth': vth_extrapolated,\n",
    "                'Percentage_Error': percent_error\n",
    "            })\n",
    "\n",
    "        # End timing\n",
    "        end_time = time.time()\n",
    "        elapsed_time = end_time - start_time\n",
    "        print(f\"\\nTime taken to calculate Vth for {len(unique_mosfet_ids)} MOSFETs: {elapsed_time:.2f} seconds\")\n",
    "\n",
    "        return pd.DataFrame(results)\n",
    "    else:\n",
    "        print(\"\\nCannot proceed without both measurement and parameter data files.\")\n",
    "        return pd.DataFrame()\n",
    "\n",
    "# Example usage: Change NUM_DEVICES here as needed\n",
    "NUM_DEVICES = 10000  # You can modify this value\n",
    "df_results = process_mosfets(\n",
    "    df_meas, df_params, NUM_DEVICES, VDS_SATURATION,\n",
    "    VGS_LINEAR_THRESHOLD_LOW, VGS_LINEAR_THRESHOLD_HIGH\n",
    ")"
   ]
  },
  {
   "cell_type": "code",
   "execution_count": 31,
   "id": "699b5edd",
   "metadata": {},
   "outputs": [
    {
     "name": "stdout",
     "output_type": "stream",
     "text": [
      "\n",
      "--- Vth Calculation and Comparison Results ---\n",
      "       MOSFET_ID  Actual_Vth (VTO)  Extrapolated_Vth  Percentage_Error\n",
      "0              1            0.6372            0.5862            8.0133\n",
      "1              2            1.0249            0.9939            3.0199\n",
      "2              3            0.4459            0.2548           42.8723\n",
      "3              4            0.3335           -0.0981          129.4254\n",
      "4              5            0.6023            0.5292           12.1337\n",
      "...          ...               ...               ...               ...\n",
      "10995      10996            0.4448            0.3434           22.8018\n",
      "10996      10997            1.0146            0.9903            2.3897\n",
      "10997      10998            0.8506            0.7575           10.9442\n",
      "10998      10999            0.6738            0.6246            7.3045\n",
      "10999      11000            0.9251            0.8999            2.7227\n",
      "\n",
      "[11000 rows x 4 columns]\n",
      "\n",
      "--- Summary Statistics for Percentage Error ---\n",
      "Mean Error: 17.39%\n",
      "Median Error: 10.79%\n",
      "Standard Deviation: 19.37%\n",
      "Min Error: 0.31%\n",
      "Max Error: 167.78%\n",
      "Number of MOSFETs with valid error calculation: 11000 / 11000\n"
     ]
    },
    {
     "data": {
      "image/png": "[encoded data removed]",
      "text/plain": [
       "<Figure size 1000x500 with 1 Axes>"
      ]
     },
     "metadata": {},
     "output_type": "display_data"
    }
   ],
   "source": [
    "def display_results(df_results, num_devices):\n",
    "    \"\"\"Display results and analyze percentage errors.\"\"\"\n",
    "    if not df_results.empty:\n",
    "        print(\"\\n--- Vth Calculation and Comparison Results ---\")\n",
    "        with pd.option_context('display.max_rows', 10, 'display.float_format', '{:,.4f}'.format):\n",
    "            print(df_results)\n",
    "\n",
    "        # Analyze Percentage Error\n",
    "        valid_errors = df_results['Percentage_Error'].dropna().replace([np.inf, -np.inf], np.nan).dropna()\n",
    "        if not valid_errors.empty:\n",
    "            print(\"\\n--- Summary Statistics for Percentage Error ---\")\n",
    "            print(f\"Mean Error: {valid_errors.mean():.2f}%\")\n",
    "            print(f\"Median Error: {valid_errors.median():.2f}%\")\n",
    "            print(f\"Standard Deviation: {valid_errors.std():.2f}%\")\n",
    "            print(f\"Min Error: {valid_errors.min():.2f}%\")\n",
    "            print(f\"Max Error: {valid_errors.max():.2f}%\")\n",
    "            print(f\"Number of MOSFETs with valid error calculation: {len(valid_errors)} / {len(df_results)}\")\n",
    "\n",
    "            # Plot histogram of errors\n",
    "            plt.figure(figsize=(10, 5))\n",
    "            plt.hist(valid_errors, bins=30, edgecolor='black')\n",
    "            plt.title('Distribution of Percentage Error in Vth Extrapolation')\n",
    "            plt.xlabel('Percentage Error (%)')\n",
    "            plt.ylabel('Number of MOSFETs')\n",
    "            plt.grid(axis='y', alpha=0.75)\n",
    "            plt.show()\n",
    "        else:\n",
    "            print(\"\\nNo valid percentage errors calculated to summarize.\")\n",
    "\n",
    "# Display the results from the previous processing\n",
    "display_results(df_results, NUM_DEVICES)"
   ]
  }
 ],
 "metadata": {
  "kernelspec": {
   "display_name": "MOSFET_NN_mini",
   "language": "python",
   "name": "python3"
  },
  "language_info": {
   "codemirror_mode": {
    "name": "ipython",
    "version": 3
   },
   "file_extension": ".py",
   "mimetype": "text/x-python",
   "name": "python",
   "nbconvert_exporter": "python",
   "pygments_lexer": "ipython3",
   "version": "3.12.7"
  }
 },
 "nbformat": 4,
 "nbformat_minor": 5
}
